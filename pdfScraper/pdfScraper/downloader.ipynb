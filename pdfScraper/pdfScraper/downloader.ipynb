{
 "cells": [
  {
   "cell_type": "code",
   "execution_count": 1,
   "metadata": {},
   "outputs": [],
   "source": [
    "import json \n",
    "import pandas as pd "
   ]
  },
  {
   "cell_type": "code",
   "execution_count": 2,
   "metadata": {},
   "outputs": [
    {
     "data": {
      "text/html": [
       "<div>\n",
       "<style scoped>\n",
       "    .dataframe tbody tr th:only-of-type {\n",
       "        vertical-align: middle;\n",
       "    }\n",
       "\n",
       "    .dataframe tbody tr th {\n",
       "        vertical-align: top;\n",
       "    }\n",
       "\n",
       "    .dataframe thead th {\n",
       "        text-align: right;\n",
       "    }\n",
       "</style>\n",
       "<table border=\"1\" class=\"dataframe\">\n",
       "  <thead>\n",
       "    <tr style=\"text-align: right;\">\n",
       "      <th></th>\n",
       "      <th>Orgname</th>\n",
       "      <th>file_urls</th>\n",
       "    </tr>\n",
       "  </thead>\n",
       "  <tbody>\n",
       "    <tr>\n",
       "      <th>0</th>\n",
       "      <td>Baazar Style Retail Ltd.</td>\n",
       "      <td>[https://trendlyne.com/get-document/post/pdf/4...</td>\n",
       "    </tr>\n",
       "    <tr>\n",
       "      <th>1</th>\n",
       "      <td>Sequent Scientific Ltd.</td>\n",
       "      <td>[https://trendlyne.com/get-document/post/pdf/4...</td>\n",
       "    </tr>\n",
       "    <tr>\n",
       "      <th>2</th>\n",
       "      <td>Indostar Capital Finance Ltd.</td>\n",
       "      <td>[https://trendlyne.com/get-document/post/pdf/4...</td>\n",
       "    </tr>\n",
       "    <tr>\n",
       "      <th>3</th>\n",
       "      <td>Northern Arc Capital Ltd.</td>\n",
       "      <td>[https://trendlyne.com/get-document/post/pdf/4...</td>\n",
       "    </tr>\n",
       "    <tr>\n",
       "      <th>4</th>\n",
       "      <td>Vodafone Idea Ltd.</td>\n",
       "      <td>[https://trendlyne.com/get-document/post/pdf/4...</td>\n",
       "    </tr>\n",
       "  </tbody>\n",
       "</table>\n",
       "</div>"
      ],
      "text/plain": [
       "                         Orgname  \\\n",
       "0       Baazar Style Retail Ltd.   \n",
       "1        Sequent Scientific Ltd.   \n",
       "2  Indostar Capital Finance Ltd.   \n",
       "3      Northern Arc Capital Ltd.   \n",
       "4             Vodafone Idea Ltd.   \n",
       "\n",
       "                                           file_urls  \n",
       "0  [https://trendlyne.com/get-document/post/pdf/4...  \n",
       "1  [https://trendlyne.com/get-document/post/pdf/4...  \n",
       "2  [https://trendlyne.com/get-document/post/pdf/4...  \n",
       "3  [https://trendlyne.com/get-document/post/pdf/4...  \n",
       "4  [https://trendlyne.com/get-document/post/pdf/4...  "
      ]
     },
     "execution_count": 2,
     "metadata": {},
     "output_type": "execute_result"
    }
   ],
   "source": [
    "filepath = './pdf_urls_uncleaned.json'\n",
    "\n",
    "with open(filepath) as fp:\n",
    "    data = json.load(fp)\n",
    "df = pd.DataFrame(data)\n",
    "df.head()"
   ]
  },
  {
   "cell_type": "code",
   "execution_count": 3,
   "metadata": {},
   "outputs": [
    {
     "data": {
      "text/plain": [
       "Orgname      0\n",
       "file_urls    0\n",
       "dtype: int64"
      ]
     },
     "execution_count": 3,
     "metadata": {},
     "output_type": "execute_result"
    }
   ],
   "source": [
    "df.isna().sum()"
   ]
  },
  {
   "cell_type": "code",
   "execution_count": 4,
   "metadata": {},
   "outputs": [
    {
     "data": {
      "text/html": [
       "<div>\n",
       "<style scoped>\n",
       "    .dataframe tbody tr th:only-of-type {\n",
       "        vertical-align: middle;\n",
       "    }\n",
       "\n",
       "    .dataframe tbody tr th {\n",
       "        vertical-align: top;\n",
       "    }\n",
       "\n",
       "    .dataframe thead th {\n",
       "        text-align: right;\n",
       "    }\n",
       "</style>\n",
       "<table border=\"1\" class=\"dataframe\">\n",
       "  <thead>\n",
       "    <tr style=\"text-align: right;\">\n",
       "      <th></th>\n",
       "      <th>Orgname</th>\n",
       "      <th>file_urls</th>\n",
       "    </tr>\n",
       "  </thead>\n",
       "  <tbody>\n",
       "    <tr>\n",
       "      <th>count</th>\n",
       "      <td>191</td>\n",
       "      <td>191</td>\n",
       "    </tr>\n",
       "    <tr>\n",
       "      <th>unique</th>\n",
       "      <td>162</td>\n",
       "      <td>191</td>\n",
       "    </tr>\n",
       "    <tr>\n",
       "      <th>top</th>\n",
       "      <td>Vodafone Idea Ltd.</td>\n",
       "      <td>[https://trendlyne.com/get-document/post/pdf/4...</td>\n",
       "    </tr>\n",
       "    <tr>\n",
       "      <th>freq</th>\n",
       "      <td>3</td>\n",
       "      <td>1</td>\n",
       "    </tr>\n",
       "  </tbody>\n",
       "</table>\n",
       "</div>"
      ],
      "text/plain": [
       "                   Orgname                                          file_urls\n",
       "count                  191                                                191\n",
       "unique                 162                                                191\n",
       "top     Vodafone Idea Ltd.  [https://trendlyne.com/get-document/post/pdf/4...\n",
       "freq                     3                                                  1"
      ]
     },
     "execution_count": 4,
     "metadata": {},
     "output_type": "execute_result"
    }
   ],
   "source": [
    "df.describe()"
   ]
  },
  {
   "cell_type": "code",
   "execution_count": 5,
   "metadata": {},
   "outputs": [
    {
     "name": "stdout",
     "output_type": "stream",
     "text": [
      "Index(['Orgname', 'file_urls'], dtype='object')\n"
     ]
    }
   ],
   "source": [
    "print(df.columns)\n"
   ]
  },
  {
   "cell_type": "code",
   "execution_count": 6,
   "metadata": {},
   "outputs": [],
   "source": [
    "\n",
    "df.drop_duplicates(subset=['file_urls'], keep='first', inplace=True)\n",
    "df.dropna(subset=['file_urls'], inplace=True)"
   ]
  },
  {
   "cell_type": "code",
   "execution_count": 7,
   "metadata": {},
   "outputs": [
    {
     "data": {
      "text/html": [
       "<div>\n",
       "<style scoped>\n",
       "    .dataframe tbody tr th:only-of-type {\n",
       "        vertical-align: middle;\n",
       "    }\n",
       "\n",
       "    .dataframe tbody tr th {\n",
       "        vertical-align: top;\n",
       "    }\n",
       "\n",
       "    .dataframe thead th {\n",
       "        text-align: right;\n",
       "    }\n",
       "</style>\n",
       "<table border=\"1\" class=\"dataframe\">\n",
       "  <thead>\n",
       "    <tr style=\"text-align: right;\">\n",
       "      <th></th>\n",
       "      <th>Orgname</th>\n",
       "      <th>file_urls</th>\n",
       "    </tr>\n",
       "  </thead>\n",
       "  <tbody>\n",
       "    <tr>\n",
       "      <th>count</th>\n",
       "      <td>191</td>\n",
       "      <td>191</td>\n",
       "    </tr>\n",
       "    <tr>\n",
       "      <th>unique</th>\n",
       "      <td>162</td>\n",
       "      <td>191</td>\n",
       "    </tr>\n",
       "    <tr>\n",
       "      <th>top</th>\n",
       "      <td>Vodafone Idea Ltd.</td>\n",
       "      <td>[https://trendlyne.com/get-document/post/pdf/4...</td>\n",
       "    </tr>\n",
       "    <tr>\n",
       "      <th>freq</th>\n",
       "      <td>3</td>\n",
       "      <td>1</td>\n",
       "    </tr>\n",
       "  </tbody>\n",
       "</table>\n",
       "</div>"
      ],
      "text/plain": [
       "                   Orgname                                          file_urls\n",
       "count                  191                                                191\n",
       "unique                 162                                                191\n",
       "top     Vodafone Idea Ltd.  [https://trendlyne.com/get-document/post/pdf/4...\n",
       "freq                     3                                                  1"
      ]
     },
     "execution_count": 7,
     "metadata": {},
     "output_type": "execute_result"
    }
   ],
   "source": [
    "df.describe()"
   ]
  },
  {
   "cell_type": "code",
   "execution_count": 8,
   "metadata": {},
   "outputs": [],
   "source": [
    "df.to_json('data.json', orient='records', lines=True)\n",
    "json_str = ',\\n'.join(json.dumps(row) for row in df.to_dict(orient='records'))\n",
    "with open('data.json', 'w') as f:\n",
    "    f.write('[' + json_str + ']')\n",
    "#data prepared with respect to organisation and their links\n"
   ]
  },
  {
   "cell_type": "code",
   "execution_count": 12,
   "metadata": {},
   "outputs": [
    {
     "name": "stdout",
     "output_type": "stream",
     "text": [
      "['https://trendlyne.com/get-document/post/pdf/4789405/', 'https://trendlyne.com/get-document/post/pdf/4775518/', 'https://trendlyne.com/get-document/post/pdf/4721419/']\n",
      "Current URL: https://trendlyne.com/accounts/login/?next=/get-document/post/pdf/4789405/\n",
      "Logged in successfully! New URL: https://trendlyne.com/accounts/login/?next=/get-document/post/pdf/4789405/\n",
      "Downloaded PDF for Vodafone Idea Ltd. (file 1) to c:\\Users\\HP\\Desktop\\Noqs\\QNLP-main\\QNLP-main\\pdfScraper\\pdfScraper\\downloads\n",
      "Current URL: https://trendlyne.com/accounts/login/?next=/get-document/post/pdf/4775518/\n",
      "Logged in successfully! New URL: https://trendlyne.com/accounts/login/?next=/get-document/post/pdf/4775518/\n",
      "Downloaded PDF for Vodafone Idea Ltd. (file 2) to c:\\Users\\HP\\Desktop\\Noqs\\QNLP-main\\QNLP-main\\pdfScraper\\pdfScraper\\downloads\n",
      "Current URL: https://trendlyne.com/accounts/login/?next=/get-document/post/pdf/4721419/\n",
      "Logged in successfully! New URL: https://trendlyne.com/accounts/login/?next=/get-document/post/pdf/4721419/\n",
      "Downloaded PDF for Vodafone Idea Ltd. (file 3) to c:\\Users\\HP\\Desktop\\Noqs\\QNLP-main\\QNLP-main\\pdfScraper\\pdfScraper\\downloads\n"
     ]
    }
   ],
   "source": [
    "import json\n",
    "import os\n",
    "import time\n",
    "import shutil\n",
    "from selenium import webdriver\n",
    "from selenium.webdriver.chrome.options import Options\n",
    "from selenium.webdriver.common.by import By\n",
    "from selenium.webdriver.support.ui import WebDriverWait\n",
    "from selenium.webdriver.support import expected_conditions as EC\n",
    "from selenium.common.exceptions import TimeoutException, NoSuchElementException\n",
    "\n",
    "USERNAME = \"username\"\n",
    "PASSWORD = \"password\"\n",
    "\n",
    "def setup_driver(download_directory):\n",
    "    chrome_options = Options()\n",
    "    chrome_options.add_argument(\"--no-sandbox\")\n",
    "    chrome_options.add_argument(\"--disable-dev-shm-usage\")\n",
    "    chrome_options.add_argument(\"--start-maximized\")\n",
    "    chrome_options.add_argument(\"user-agent=Mozilla/5.0 (Windows NT 10.0; Win64; x64) AppleWebKit/537.36 (KHTML, like Gecko) Chrome/91.0.4472.124 Safari/537.36\")\n",
    "    \n",
    "    prefs = {\n",
    "        \"download.default_directory\": download_directory, \n",
    "        \"download.prompt_for_download\": False,\n",
    "        \"plugins.always_open_pdf_externally\": True  \n",
    "    }\n",
    "    chrome_options.add_experimental_option(\"prefs\", prefs)\n",
    "    \n",
    "    driver = webdriver.Chrome(options=chrome_options)\n",
    "    return driver\n",
    "\n",
    "def login_to_trendlyne(driver, login_url):\n",
    "    try:\n",
    "        driver.get(login_url)\n",
    "        print(f\"Current URL: {driver.current_url}\")\n",
    "        \n",
    "        username_field = WebDriverWait(driver, 20).until(\n",
    "            EC.presence_of_element_located((By.NAME, \"login\"))\n",
    "        )\n",
    "        username_field.send_keys(USERNAME)\n",
    "        password_field = driver.find_element(By.NAME, \"password\")\n",
    "        password_field.send_keys(PASSWORD)\n",
    "        login_button = driver.find_element(By.CSS_SELECTOR, \"button[type='submit']\")\n",
    "        login_button.click()\n",
    "        # Wait for either a URL change to the PDF URL or check if the PDF URL is loaded\n",
    "        WebDriverWait(driver, 20).until(\n",
    "            lambda d: 'pdf' in d.current_url or d.current_url != login_url\n",
    "        )\n",
    "        # Check if the page has successfully changed to the PDF or other post-login URL\n",
    "        if 'pdf' in driver.current_url:\n",
    "            print(f\"Logged in successfully! New URL: {driver.current_url}\")\n",
    "            return True\n",
    "        else:\n",
    "            raise TimeoutException(\"Failed to reach the target page after login.\")\n",
    "            \n",
    "    except TimeoutException:\n",
    "        print(\"Login failed - timeout occurred\")\n",
    "        return False\n",
    "    except NoSuchElementException as e:\n",
    "        print(f\"Element not found: {str(e)}\")\n",
    "        return False\n",
    "    except Exception as e:\n",
    "        print(f\"Login failed: {str(e)}\")\n",
    "        return False\n",
    "\n",
    "def check_download_complete(download_directory, timeout=30):\n",
    "    download_wait_time = 0.5  \n",
    "    elapsed_time = 0\n",
    "\n",
    "    while elapsed_time < timeout:\n",
    "        time.sleep(download_wait_time)\n",
    "        files = os.listdir(download_directory)\n",
    "        \n",
    "        pdf_files = [f for f in files if f.endswith(\".pdf\")]\n",
    "        #just to check if the donwloading is in temporary format\n",
    "        tmp_files = [f for f in files if f.endswith(\".tmp\")]\n",
    "        \n",
    "        # If we have PDF files and no temporary (.tmp) files, assume downloads are complete\n",
    "        if pdf_files and not tmp_files:\n",
    "            return True\n",
    "\n",
    "        elapsed_time += download_wait_time\n",
    "    \n",
    "    return False \n",
    "\n",
    "def main(orgname, output_directory='downloads'):\n",
    "    output_directory = os.path.abspath(output_directory)\n",
    "\n",
    "    if not os.path.exists(output_directory):\n",
    "        os.makedirs(output_directory)\n",
    "\n",
    "    with open('data.json', 'r') as f:\n",
    "        data = json.load(f)\n",
    "\n",
    "    organization_entries = [item for item in data if item[\"Orgname\"] == orgname]\n",
    "    organization_data = [x[\"file_urls\"][0] for x in organization_entries] \n",
    "    print(organization_data)\n",
    "    \n",
    "    if not organization_data:\n",
    "        print(f\"No data found for organization: {orgname}\")\n",
    "        return\n",
    "\n",
    "    # Iterating over all URLs for this organization\n",
    "    for index, url in enumerate(organization_data, start=1):\n",
    "        driver = setup_driver(output_directory)\n",
    "        \n",
    "        if login_to_trendlyne(driver, url):\n",
    "\n",
    "            if check_download_complete(output_directory):\n",
    "                print(f\"Downloaded PDF for {orgname} (file {index}) to {output_directory}\")\n",
    "            else:\n",
    "                print(f\"PDF download for {orgname} (file {index}) timed out or did not complete\")\n",
    "        else:\n",
    "            print(f\"Failed to log in or download for {orgname} (file {index})\")\n",
    "\n",
    "        driver.quit()\n",
    "\n"
   ]
  },
  {
   "cell_type": "code",
   "execution_count": null,
   "metadata": {},
   "outputs": [],
   "source": [
    "organization_name=input(\"Type the company name: \")\n",
    "main(organization_name)"
   ]
  }
 ],
 "metadata": {
  "kernelspec": {
   "display_name": "Python 3",
   "language": "python",
   "name": "python3"
  },
  "language_info": {
   "codemirror_mode": {
    "name": "ipython",
    "version": 3
   },
   "file_extension": ".py",
   "mimetype": "text/x-python",
   "name": "python",
   "nbconvert_exporter": "python",
   "pygments_lexer": "ipython3",
   "version": "3.12.1"
  }
 },
 "nbformat": 4,
 "nbformat_minor": 2
}
